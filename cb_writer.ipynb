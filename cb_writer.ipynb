{
 "cells": [
  {
   "cell_type": "markdown",
   "metadata": {},
   "source": [
    "https://www.electionstudies.org/wp-content/uploads/2017/02/anes_timeseries_cdf_codebook_var.txt"
   ]
  },
  {
   "cell_type": "markdown",
   "metadata": {},
   "source": [
    "https://electionstudies.org/anes_timeseries_cdf/"
   ]
  },
  {
   "cell_type": "code",
   "execution_count": 25,
   "metadata": {},
   "outputs": [],
   "source": [
    "import modpipe\n",
    "import re\n",
    "from collections import OrderedDict\n",
    "import os\n",
    "import json"
   ]
  },
  {
   "cell_type": "code",
   "execution_count": 27,
   "metadata": {},
   "outputs": [],
   "source": [
    "!mkdir -p data/clean"
   ]
  },
  {
   "cell_type": "code",
   "execution_count": 28,
   "metadata": {},
   "outputs": [],
   "source": [
    "VERSION_RE = re.compile(\"^RELEASE VERSION:\\s+(\\d+)\")\n",
    "\n",
    "\n",
    "LINE_SEP = \"=\" * 77 + \"\\n\"\n",
    "\n",
    "def defn_iterator(file_path):\n",
    "    version = None\n",
    "    lines = []\n",
    "    \n",
    "    with open(file_path, errors='ignore') as fp:\n",
    "        \n",
    "        for line in fp:\n",
    "            if version is None:\n",
    "                version = VERSION_RE.search(line).group(1)\n",
    "                yield {'version': version}\n",
    "            elif line == LINE_SEP:\n",
    "                break\n",
    "        \n",
    "        for line in fp:\n",
    "            if line == LINE_SEP:\n",
    "                yield lines\n",
    "                lines = []\n",
    "            else:\n",
    "                lines.append(line.rstrip())\n",
    "                \n",
    "    if lines[-1] == \"\" and lines[-2] == \"\" and lines[-3] == \"1\":\n",
    "        yield lines[:-3]"
   ]
  },
  {
   "cell_type": "code",
   "execution_count": 29,
   "metadata": {},
   "outputs": [],
   "source": [
    "DATA_PATH = os.path.join(\"data\", \"raw\", \"anes_timeseries_cdf_codebook_var.txt\")\n",
    "OUTPUT_PATH = os.path.join(\"data\", \"clean\", \"anes_cb.json\")\n",
    "general_notes, var_defs = [], OrderedDict()\n",
    "\n",
    "version = None\n",
    "with modpipe.ModPipe(\"codebook_pipeline\") as pipe:\n",
    "    for lines in defn_iterator(DATA_PATH):\n",
    "        if 'version' in lines:\n",
    "            version = lines['version']\n",
    "        else:\n",
    "            res = pipe(lines.copy())\n",
    "            if '_general_note_lines' in res:\n",
    "                general_notes.append(res)\n",
    "            else:\n",
    "                var_defs[res['name']] = res\n",
    "                \n",
    "codebook = OrderedDict([('version', version)])\n",
    "codebook['var_defs'] = var_defs\n",
    "codebook['notes'] = general_notes\n",
    "\n",
    "with open(OUTPUT_PATH, \"w\") as fp:\n",
    "    json.dump(codebook, fp)"
   ]
  },
  {
   "cell_type": "code",
   "execution_count": 34,
   "metadata": {},
   "outputs": [
    {
     "data": {
      "text/plain": [
       "OrderedDict([('name', 'VCF0104'),\n",
       "             ('module', 'DEMOGRAPHICS'),\n",
       "             ('desc', 'Respondent - Gender'),\n",
       "             ('var_type', 'Numeric  Dec 0-1'),\n",
       "             ('prompt', ['Respondent gender']),\n",
       "             ('source_vars',\n",
       "              OrderedDict([('1948', ['480045']),\n",
       "                           ('1952', ['520128']),\n",
       "                           ('1954', ['V540026']),\n",
       "                           ('1956', ['560171']),\n",
       "                           ('1958', ['580170']),\n",
       "                           ('1960', ['600118']),\n",
       "                           ('1962', ['620098']),\n",
       "                           ('1964', ['640182']),\n",
       "                           ('1966', ['660236']),\n",
       "                           ('1968', ['680263']),\n",
       "                           ('1970', ['700390(type 0)']),\n",
       "                           ('1972', ['720424']),\n",
       "                           ('1974', ['742553']),\n",
       "                           ('1976', ['763512']),\n",
       "                           ('1978', ['780630']),\n",
       "                           ('1980', ['800720']),\n",
       "                           ('1982', ['820762']),\n",
       "                           ('1984', ['840707']),\n",
       "                           ('1986', ['860755']),\n",
       "                           ('1988', ['880413']),\n",
       "                           ('1990', ['900547']),\n",
       "                           ('1992', ['924201']),\n",
       "                           ('1994', ['941434']),\n",
       "                           ('1996', ['960066']),\n",
       "                           ('1998', ['980672']),\n",
       "                           ('2000', ['001029']),\n",
       "                           ('2002', ['023153']),\n",
       "                           ('2004', ['041109a']),\n",
       "                           ('2008', ['081101']),\n",
       "                           ('2012', ['gender_respondent_x'])])),\n",
       "             ('weights', ['VCF0009x', 'VCF0009y', 'VCF0009z']),\n",
       "             ('notes',\n",
       "              'GENERAL NOTE:\\nFor pre-post studies, when a gender variable was present in both the\\npre and post, the pre variable is represented here. Coded by\\ninterviewer.\\n1960 NOTE:\\n1960 pre variable 118 incorporated data from post gender variable\\nV600248 to establish the gender of 22 no-pre cases.'),\n",
       "             ('codes',\n",
       "              OrderedDict([('UNIFORM',\n",
       "                            OrderedDict([('codes',\n",
       "                                          OrderedDict([('1', 'Male'),\n",
       "                                                       ('2', 'Female'),\n",
       "                                                       ('0', 'NA; no Pre IW'),\n",
       "                                                       ('INAP',\n",
       "                                                        'Inap. question not used')])),\n",
       "                                         ('valid', ['1', '2']),\n",
       "                                         ('missing', ['0', 'INAP'])]))]))])"
      ]
     },
     "execution_count": 34,
     "metadata": {},
     "output_type": "execute_result"
    }
   ],
   "source": [
    "codebook['var_defs']['VCF0104']"
   ]
  },
  {
   "cell_type": "code",
   "execution_count": 57,
   "metadata": {},
   "outputs": [
    {
     "data": {
      "text/plain": [
       "dict_keys(['89', '8', '9989', '98', '995', '9987', '87', '996', '999', '877', '000', '998', '9', '0', 'INAP', '88', '991', '997', '6', '00', '990', '9988', '97', '7', '8889', '99', '8888', '888'])"
      ]
     },
     "execution_count": 57,
     "metadata": {},
     "output_type": "execute_result"
    }
   ],
   "source": [
    "from collections import defaultdict\n",
    "\n",
    "\n",
    "missing_map = defaultdict(set)\n",
    "\n",
    "\n",
    "for k, v in codebook['var_defs'].items():\n",
    "    for coding in v.get('codes', {}).values():\n",
    "        for missing_code in coding.get('missing', []):\n",
    "            missing_map[missing_code].add(coding['codes'][missing_code])\n",
    "            \n",
    "            \n",
    "missing_map.keys()"
   ]
  }
 ],
 "metadata": {
  "kernelspec": {
   "display_name": "Python 3",
   "language": "python",
   "name": "python3"
  },
  "language_info": {
   "codemirror_mode": {
    "name": "ipython",
    "version": 3
   },
   "file_extension": ".py",
   "mimetype": "text/x-python",
   "name": "python",
   "nbconvert_exporter": "python",
   "pygments_lexer": "ipython3",
   "version": "3.5.3"
  }
 },
 "nbformat": 4,
 "nbformat_minor": 2
}
