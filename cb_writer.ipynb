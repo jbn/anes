{
 "cells": [
  {
   "cell_type": "markdown",
   "metadata": {},
   "source": [
    "https://www.electionstudies.org/wp-content/uploads/2017/02/anes_timeseries_cdf_codebook_var.txt"
   ]
  },
  {
   "cell_type": "markdown",
   "metadata": {},
   "source": [
    "https://electionstudies.org/anes_timeseries_cdf/"
   ]
  },
  {
   "cell_type": "code",
   "execution_count": 25,
   "metadata": {},
   "outputs": [],
   "source": [
    "import modpipe\n",
    "import re\n",
    "from collections import OrderedDict\n",
    "import os\n",
    "import json"
   ]
  },
  {
   "cell_type": "code",
   "execution_count": 27,
   "metadata": {},
   "outputs": [],
   "source": [
    "!mkdir -p data/clean"
   ]
  },
  {
   "cell_type": "code",
   "execution_count": 28,
   "metadata": {},
   "outputs": [],
   "source": [
    "VERSION_RE = re.compile(\"^RELEASE VERSION:\\s+(\\d+)\")\n",
    "\n",
    "\n",
    "LINE_SEP = \"=\" * 77 + \"\\n\"\n",
    "\n",
    "def defn_iterator(file_path):\n",
    "    version = None\n",
    "    lines = []\n",
    "    \n",
    "    with open(file_path, errors='ignore') as fp:\n",
    "        \n",
    "        for line in fp:\n",
    "            if version is None:\n",
    "                version = VERSION_RE.search(line).group(1)\n",
    "                yield {'version': version}\n",
    "            elif line == LINE_SEP:\n",
    "                break\n",
    "        \n",
    "        for line in fp:\n",
    "            if line == LINE_SEP:\n",
    "                yield lines\n",
    "                lines = []\n",
    "            else:\n",
    "                lines.append(line.rstrip())\n",
    "                \n",
    "    if lines[-1] == \"\" and lines[-2] == \"\" and lines[-3] == \"1\":\n",
    "        yield lines[:-3]"
   ]
  },
  {
   "cell_type": "code",
   "execution_count": 29,
   "metadata": {},
   "outputs": [],
   "source": [
    "DATA_PATH = os.path.join(\"data\", \"raw\", \"anes_timeseries_cdf_codebook_var.txt\")\n",
    "OUTPUT_PATH = os.path.join(\"data\", \"clean\", \"anes_cb.json\")\n",
    "general_notes, var_defs = [], OrderedDict()\n",
    "\n",
    "version = None\n",
    "with modpipe.ModPipe(\"codebook_pipeline\") as pipe:\n",
    "    for lines in defn_iterator(DATA_PATH):\n",
    "        if 'version' in lines:\n",
    "            version = lines['version']\n",
    "        else:\n",
    "            res = pipe(lines.copy())\n",
    "            if '_general_note_lines' in res:\n",
    "                general_notes.append(res)\n",
    "            else:\n",
    "                var_defs[res['name']] = res\n",
    "                \n",
    "codebook = OrderedDict([('version', version)])\n",
    "codebook['var_defs'] = var_defs\n",
    "codebook['notes'] = general_notes\n",
    "\n",
    "with open(OUTPUT_PATH, \"w\") as fp:\n",
    "    json.dump(codebook, fp)"
   ]
  }
 ],
 "metadata": {
  "kernelspec": {
   "display_name": "Python 3",
   "language": "python",
   "name": "python3"
  },
  "language_info": {
   "codemirror_mode": {
    "name": "ipython",
    "version": 3
   },
   "file_extension": ".py",
   "mimetype": "text/x-python",
   "name": "python",
   "nbconvert_exporter": "python",
   "pygments_lexer": "ipython3",
   "version": "3.5.3"
  }
 },
 "nbformat": 4,
 "nbformat_minor": 2
}
