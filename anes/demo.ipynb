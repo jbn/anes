{
 "cells": [
  {
   "cell_type": "code",
   "execution_count": 1,
   "metadata": {},
   "outputs": [],
   "source": [
    "%matplotlib inline\n",
    "import os\n",
    "from anes import ANES\n",
    "import seaborn as sns"
   ]
  },
  {
   "cell_type": "code",
   "execution_count": 2,
   "metadata": {},
   "outputs": [
    {
     "name": "stderr",
     "output_type": "stream",
     "text": [
      "/Users/generativist/anaconda/envs/odin/lib/python3.5/site-packages/IPython/core/interactiveshell.py:2802: DtypeWarning: Columns (112,113,642) have mixed types. Specify dtype option on import or set low_memory=False.\n",
      "  if self.run_code(code, result):\n"
     ]
    }
   ],
   "source": [
    "DF_PATH = os.path.join(os.pardir, \"etl\", \"data\", \"clean\", \"anes.tsv\")\n",
    "CODEBOOK_PATH = os.path.join(os.pardir, \"etl\", \"data\", \"clean\", \"anes_cb.json\")\n",
    "anes = ANES(DF_PATH, CODEBOOK_PATH)"
   ]
  },
  {
   "cell_type": "code",
   "execution_count": 3,
   "metadata": {},
   "outputs": [
    {
     "data": {
      "text/markdown": [
       "Not Found"
      ],
      "text/plain": [
       "<IPython.core.display.Markdown object>"
      ]
     },
     "execution_count": 3,
     "metadata": {},
     "output_type": "execute_result"
    }
   ],
   "source": [
    "anes.describe('VERSION2')"
   ]
  },
  {
   "cell_type": "code",
   "execution_count": 4,
   "metadata": {},
   "outputs": [
    {
     "data": {
      "text/markdown": [
       "VERSION\n",
       "=======\n",
       "STUDY VARIABLE\n",
       "--------------\n",
       "Version Number Of Release\n",
       "Prompt\n",
       "------\n",
       "Version of Cumulative Data File\n",
       "Notes\n",
       "-----\n",
       "Version of Cumulative Data File"
      ],
      "text/plain": [
       "<IPython.core.display.Markdown object>"
      ]
     },
     "execution_count": 4,
     "metadata": {},
     "output_type": "execute_result"
    }
   ],
   "source": [
    "anes.describe('VERSION')"
   ]
  },
  {
   "cell_type": "code",
   "execution_count": 5,
   "metadata": {},
   "outputs": [
    {
     "data": {
      "text/markdown": [
       "VCF0127A\n",
       "========\n",
       "DEMOGRAPHICS\n",
       "------------\n",
       "Household - Who Belongs to Union 8-category\n",
       "Prompt\n",
       "------\n",
       "(1988-LATER EXC.2002: Do you or [1988: does] anyone else; 2002: Does\n",
       "anyone) in this household belong to a labor union?\n",
       "(IF YES:)  Who is it that belongs?\n",
       "Codes\n",
       "-----\n",
       "| Code   | Desc                                                                    |\n",
       "|:-------|:------------------------------------------------------------------------|\n",
       "| 00     | No one                                                                  |\n",
       "| 11     | Respondent only                                                         |\n",
       "| 12     | Spouse only                                                             |\n",
       "| 13     | Other household member only                                             |\n",
       "| 21     | R and spouse                                                            |\n",
       "| 22     | R and other household member                                            |\n",
       "| 23     | Spouse and other household member                                       |\n",
       "| 31     | R, spouse and other household member                                    |\n",
       "| 99     | DK; NA; DK/NA if anyone in union; short-form 'new' Cross Section (1992) |\n",
       "| INAP   | Inap. question not used                                                 |\n",
       "Notes\n",
       "-----\n",
       "(1988-LATER EXC.2002: Do you or [1988: does] anyone else; 2002: Does\n",
       "anyone) in this household belong to a labor union?\n",
       "(IF YES:)  Who is it that belongs?"
      ],
      "text/plain": [
       "<IPython.core.display.Markdown object>"
      ]
     },
     "execution_count": 5,
     "metadata": {},
     "output_type": "execute_result"
    }
   ],
   "source": [
    "anes.describe('VCF0127A')"
   ]
  },
  {
   "cell_type": "code",
   "execution_count": 6,
   "metadata": {},
   "outputs": [
    {
     "data": {
      "image/png": "[encoded data removed]",
      "text/plain": [
       "<matplotlib.figure.Figure at 0x11103b940>"
      ]
     },
     "metadata": {},
     "output_type": "display_data"
    }
   ],
   "source": [
    "anes.plot_counts('VCF0127A')"
   ]
  },
  {
   "cell_type": "code",
   "execution_count": 7,
   "metadata": {},
   "outputs": [
    {
     "data": {
      "text/markdown": [
       "| Name     | Module                  | Desc                                                         | Prompt                                                                                                                                                                                                                                                                                                                                                                                                                                                                      |\n",
       "|:---------|:------------------------|:-------------------------------------------------------------|:----------------------------------------------------------------------------------------------------------------------------------------------------------------------------------------------------------------------------------------------------------------------------------------------------------------------------------------------------------------------------------------------------------------------------------------------------------------------------|\n",
       "| VCF0004  | STUDY VARIABLE          | Year of Study                                                | Year of study (4-digit)                                                                                                                                                                                                                                                                                                                                                                                                                                                     |\n",
       "| VCF0006  | STUDY VARIABLE          | Study Respondent Number: Year-level Case ID                  | Case identification number                                                                                                                                                                                                                                                                                                                                                                                                                                                  |\n",
       "| VCF0006A | STUDY VARIABLE          | Unique Respondent Number (Cross-year ID for panel cases)     | Unique identification number                                                                                                                                                                                                                                                                                                                                                                                                                                                |\n",
       "| VCF0870  | ISSUES                  | Better or Worse Economy in Past Year                         | How about (1996-LATER: Now thinking about) the economy (1990,1994- later: in the country as a whole)? ALL YEARS EXC. 2000 VERSION 2: Would you say that over the past year the nation's economy has gotten better, stayed (all yrs. exc 1984: about) the same or gotten worse? 2000 VERSION 2: Would you say that over the past year the nation's economy has gotten worse, stayed about the same, or gotten better?                                                        |\n",
       "| VCF0871  | ISSUES                  | How Much Better or Worse Economy in Past Year                | How about (1996-LATER: Now thinking about) the economy (1990,1994- later: in the country as a whole)? Would you say that over the past year the nation's economy has gotten better, stayed (all yrs. exc 1984: about) the same or gotten worse? (IF BETTER:) Would you say much better or somewhat better? (IF WORSE:)  Would you say much worse or somewhat worse?                                                                                                         |\n",
       "| VCF0872  | ISSUES                  | Better or Worse Economy in Next Year                         | What about the next 12 months (1980,1982: or so)? ALL YEARS EXC. 2000: Do you expect the (1986,1988,1992: national) economy to get better, get worse, or stay about the same? 2000 VERSION 1: Do you expect the economy, in the country as a whole, to get better, stay about the same, or get worse? 2000 VERSION 2: Do you expect the economy, in the country as a whole, to get worse, stay about the same, or get better?                                               |\n",
       "| VCF0880  | ECONOMIC WELL-BEING     | Better or Worse Off in Past Year                             | 1962-1998,2004: We are interested in how people are getting along financially these days. Would you say that (1962,1966-1974: you [and your family]; 1976 and later : you [and your family living here]) are better off or worse off financially than you were a year ago. 2000-2002: Would you say that you (and your family) (2000 FACE-TO-FACE ONLY: living here) are better off, worse off, or just about the same financially as you were a year ago?                  |\n",
       "| VCF0880A | ECONOMIC WELL-BEING     | How Much Better/Worse Off in Past Year                       | 1984-1998,2004: We are interested in how people are getting along financially these days. Would you say that you and your family living here are better off or worse off financially than you were a year ago. 2000-2002: Would you say that you (and your family) (2000 FACE-TO-FACE ONLY: living here) are better off, worse off, or just about the same financially as you were a year ago? Is that much better/worse off or somewhat better/worse off?                  |\n",
       "| VCF0880B | ECONOMIC WELL-BEING     | Financial Situation Better/Worse in Past Few Years           | During the last few years, has your financial situation been getting better, getting worse, or has it stayed the same?                                                                                                                                                                                                                                                                                                                                                      |\n",
       "| VCF0881  | ECONOMIC WELL-BEING     | Better or Worse Off in Next Year                             | 1956-1960,1964: Now looking ahead and thinking about the next few years, do you expect your financial situation will stay about the way it is now, get better, or get worse. 1962,1966 AND LATER: Now looking ahead--do you think that a year from now (1962,1966-1970: you people; 1972,1974: you [and your family]; 1976 AND LATER: you [and your family; 2000 TELEPHONE,2004: living here]) will be better  off financially or worse off, or just about the same as now? |\n",
       "| VCF9042  | RACIAL RESENTMENT       | Blacks Gotten Less than They Deserve Over the Past Few Years | 'Over the past few years blacks have gotten less than they deserve.'                                                                                                                                                                                                                                                                                                                                                                                                        |\n",
       "| VCF9045  | CONDITION/GOALS OF U.S. | Position of the U.S. Weaker/Stronger in the Past Year        | 1958,1960,1964,1968: Would you say that in the past year or so our position in the world has become stronger, less strong, or has it stayed about the same? 1984 AND 1984-LATER: (2002,2004: Turning to some other issues facing the country) During the past year, would you say that the United States' position in the world has grown weaker, stayed about the same, or has it grown stronger?                                                                          |\n",
       "| VCF9053  | ECONOMIC WELL-BEING     | Income Kept Up with Costs in Last Year                       | Do you think that over the last year your/your family's income has gone up more than the cost of living, has it fallen behind, or has it stayed about even with the cost of living? (IF GONE UP OR FALLEN BEHIND) Has it (gone up/fallen behind) a lot or (gone up/fallen behind) a little?                                                                                                                                                                                 |"
      ],
      "text/plain": [
       "<IPython.core.display.Markdown object>"
      ]
     },
     "execution_count": 7,
     "metadata": {},
     "output_type": "execute_result"
    }
   ],
   "source": [
    "anes.search_for('year')"
   ]
  },
  {
   "cell_type": "code",
   "execution_count": 8,
   "metadata": {},
   "outputs": [
    {
     "data": {
      "image/png": "[encoded data removed]",
      "text/plain": [
       "<matplotlib.figure.Figure at 0x112569cf8>"
      ]
     },
     "metadata": {},
     "output_type": "display_data"
    }
   ],
   "source": [
    "anes.plot_counts('VCF0253', ignore_missing=True)"
   ]
  },
  {
   "cell_type": "code",
   "execution_count": 9,
   "metadata": {},
   "outputs": [
    {
     "data": {
      "text/html": [
       "<div>\n",
       "<style scoped>\n",
       "    .dataframe tbody tr th:only-of-type {\n",
       "        vertical-align: middle;\n",
       "    }\n",
       "\n",
       "    .dataframe tbody tr th {\n",
       "        vertical-align: top;\n",
       "    }\n",
       "\n",
       "    .dataframe thead tr th {\n",
       "        text-align: left;\n",
       "    }\n",
       "\n",
       "    .dataframe thead tr:last-of-type th {\n",
       "        text-align: right;\n",
       "    }\n",
       "</style>\n",
       "<table border=\"1\" class=\"dataframe\">\n",
       "  <thead>\n",
       "    <tr>\n",
       "      <th></th>\n",
       "      <th colspan=\"5\" halign=\"left\">VCF0004</th>\n",
       "    </tr>\n",
       "    <tr>\n",
       "      <th>VCF0837</th>\n",
       "      <th>1</th>\n",
       "      <th>2</th>\n",
       "      <th>3</th>\n",
       "      <th>4</th>\n",
       "      <th>9</th>\n",
       "    </tr>\n",
       "    <tr>\n",
       "      <th>VCF0838</th>\n",
       "      <th></th>\n",
       "      <th></th>\n",
       "      <th></th>\n",
       "      <th></th>\n",
       "      <th></th>\n",
       "    </tr>\n",
       "  </thead>\n",
       "  <tbody>\n",
       "    <tr>\n",
       "      <th>1</th>\n",
       "      <td>75</td>\n",
       "      <td>73</td>\n",
       "      <td>7</td>\n",
       "      <td>3</td>\n",
       "      <td>1</td>\n",
       "    </tr>\n",
       "    <tr>\n",
       "      <th>2</th>\n",
       "      <td>40</td>\n",
       "      <td>334</td>\n",
       "      <td>36</td>\n",
       "      <td>14</td>\n",
       "      <td>12</td>\n",
       "    </tr>\n",
       "    <tr>\n",
       "      <th>3</th>\n",
       "      <td>7</td>\n",
       "      <td>120</td>\n",
       "      <td>90</td>\n",
       "      <td>30</td>\n",
       "      <td>3</td>\n",
       "    </tr>\n",
       "    <tr>\n",
       "      <th>4</th>\n",
       "      <td>8</td>\n",
       "      <td>57</td>\n",
       "      <td>107</td>\n",
       "      <td>319</td>\n",
       "      <td>11</td>\n",
       "    </tr>\n",
       "    <tr>\n",
       "      <th>9</th>\n",
       "      <td>2</td>\n",
       "      <td>23</td>\n",
       "      <td>5</td>\n",
       "      <td>8</td>\n",
       "      <td>10</td>\n",
       "    </tr>\n",
       "  </tbody>\n",
       "</table>\n",
       "</div>"
      ],
      "text/plain": [
       "        VCF0004                   \n",
       "VCF0837       1    2    3    4   9\n",
       "VCF0838                           \n",
       "1            75   73    7    3   1\n",
       "2            40  334   36   14  12\n",
       "3             7  120   90   30   3\n",
       "4             8   57  107  319  11\n",
       "9             2   23    5    8  10"
      ]
     },
     "execution_count": 9,
     "metadata": {},
     "output_type": "execute_result"
    }
   ],
   "source": [
    "sub_df = anes.select('VCF0838', 'VCF0837', \n",
    "                     years=[1972, 1976, 1978, 1980],\n",
    "                     strip_missings=True)\n",
    "x = sub_df.pivot_table('VCF0004', ['VCF0838', 'VCF0837'], aggfunc='count').unstack()\n",
    "x"
   ]
  },
  {
   "cell_type": "code",
   "execution_count": 10,
   "metadata": {},
   "outputs": [
    {
     "data": {
      "image/png": "[encoded data removed]",
      "text/plain": [
       "<matplotlib.figure.Figure at 0x1124e9cc0>"
      ]
     },
     "metadata": {},
     "output_type": "display_data"
    }
   ],
   "source": [
    "sns.heatmap(x);"
   ]
  }
 ],
 "metadata": {
  "kernelspec": {
   "display_name": "Python 3",
   "language": "python",
   "name": "python3"
  },
  "language_info": {
   "codemirror_mode": {
    "name": "ipython",
    "version": 3
   },
   "file_extension": ".py",
   "mimetype": "text/x-python",
   "name": "python",
   "nbconvert_exporter": "python",
   "pygments_lexer": "ipython3",
   "version": "3.5.3"
  }
 },
 "nbformat": 4,
 "nbformat_minor": 2
}
