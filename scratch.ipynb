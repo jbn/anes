{
 "cells": [
  {
   "cell_type": "code",
   "execution_count": 2,
   "metadata": {},
   "outputs": [],
   "source": [
    "#!wget https://www.electionstudies.org/wp-content/uploads/2017/02/anes_timeseries_cdf_codebook_var.txt"
   ]
  },
  {
   "cell_type": "code",
   "execution_count": 287,
   "metadata": {},
   "outputs": [],
   "source": [
    "import modpipe\n",
    "import re\n",
    "import os"
   ]
  },
  {
   "cell_type": "code",
   "execution_count": 288,
   "metadata": {},
   "outputs": [],
   "source": [
    "VERSION_RE = re.compile(\"^RELEASE VERSION:\\s+(\\d+)\")\n",
    "\n",
    "\n",
    "LINE_SEP = \"=\" * 77 + \"\\n\"\n",
    "\n",
    "def defn_iterator(file_path):\n",
    "    version = None\n",
    "    lines = []\n",
    "    \n",
    "    with open(file_path, errors='ignore') as fp:\n",
    "        \n",
    "        for line in fp:\n",
    "            if version is None:\n",
    "                version = VERSION_RE.search(line).group(1)\n",
    "                yield {'version': version}\n",
    "            elif line == LINE_SEP:\n",
    "                break\n",
    "        \n",
    "        for line in fp:\n",
    "            if line == LINE_SEP:\n",
    "                yield lines\n",
    "                lines = []\n",
    "            else:\n",
    "                lines.append(line.rstrip())\n",
    "                \n",
    "    if lines[-1] == \"\" and lines[-2] == \"\" and lines[-3] == \"1\":\n",
    "        yield lines[:-3]"
   ]
  },
  {
   "cell_type": "code",
   "execution_count": 289,
   "metadata": {},
   "outputs": [
    {
     "data": {
      "text/plain": [
       "set()"
      ]
     },
     "execution_count": 289,
     "metadata": {},
     "output_type": "execute_result"
    }
   ],
   "source": [
    "WEIGHTS = set()\n",
    "\n",
    "DATA_PATH = os.path.join(\"data\", \"raw\", \"anes_timeseries_cdf_codebook_var.txt\")\n",
    "\n",
    "with modpipe.ModPipe(\"codebook_pipeline\") as pipe:\n",
    "    for lines in defn_iterator(DATA_PATH):\n",
    "        if 'version' not in lines:\n",
    "            res = pipe(lines.copy())\n",
    "            if '_general_note_lines' not in res:\n",
    "                if 'sections' not in res:\n",
    "                    continue\n",
    "                for weight in res['sections'].get('WEIGHT', []):\n",
    "                    WEIGHTS.add(weight)\n",
    "                pass\n",
    "                #TYPES.update(res['sections']['TYPE'])\n",
    "                #if len(res['sections']['QUESTION']) == 10:\n",
    "                #    break\n",
    "                #pass\n",
    "\n",
    "TYPES"
   ]
  },
  {
   "cell_type": "code",
   "execution_count": 290,
   "metadata": {},
   "outputs": [
    {
     "data": {
      "text/plain": [
       "OrderedDict([('var_name', 'VCF9155'),\n",
       "             ('desc_kind', 'VOTE VALIDATION'),\n",
       "             ('desc', 'Was R Vote Validated'),\n",
       "             ('var_type', 'Numeric  Dec 0-1'),\n",
       "             ('question', [' ']),\n",
       "             ('valid_codes',\n",
       "              OrderedDict([('UNIFORM',\n",
       "                            OrderedDict([('1', ' '),\n",
       "                                         ('3', ' '),\n",
       "                                         ('5', ' ')]))])),\n",
       "             ('missing_codes',\n",
       "              OrderedDict([('UNIFORM',\n",
       "                            OrderedDict([('0', ' '),\n",
       "                                         ('9', ' '),\n",
       "                                         ('INAP', ' ')]))])),\n",
       "             ('source_vars',\n",
       "              OrderedDict([('1964', ['V640423', 'V640424', 'V64042']),\n",
       "                           ('1976', ['V765002', 'V76501']),\n",
       "                           ('1978', ['V781400', 'V781409', 'V78141']),\n",
       "                           ('1980', ['V80120']),\n",
       "                           ('1984', ['V841121', 'V84113']),\n",
       "                           ('1986',\n",
       "                            ['V860773', 'V860778', 'V860789', 'V86080']),\n",
       "                           ('1988', ['V88114']),\n",
       "                           ('1990', ['V902006', 'V90204'])])),\n",
       "             ('weights', ['VCF0009x', 'VCF0009y', 'VCF0009z']),\n",
       "             ('notes',\n",
       "              'See note VCF9149,VCF9152.\\nGENERAL NOTE:\\nCode 3 and code 5 include cases of limited access to vote records\\n(codes 2 and 5 in VCF9153).  Codes 3 and 5 also incorporate 1984 and\\n1990 cases of attempted validation by phone of Rs registered out of\\narea (998 in VCF9149).\\nIn cases where registration is not required or where voting and\\nregistration lists are for some reason kept entirely separate, this\\ncode implies that an independent check for voting was also done and no\\nrecord of R voting was found.\\nIn all Pre-Post years except 1964 (and some cases in 1976), this\\nvariable includes in valid codes respondents who did not give a post-\\nelection interview.\\n1964 and 1980 are the only years with cases categorized for same-day\\nregistration.  Registration was not \\'checked\\' in such cases but voting\\nrecords WERE checked (4 in VCF9152 and [1980] 1 in VCF9153).  The\\nresults of the vote record checks for \"same-day registration\" Rs in\\n1964 and 1980 are represented here in codes 1 (voted) and 3 (did not\\nvote), with nocases of same-day registration coded 5.\\n1976 NOTE;\\nOnly 1976 time-series respondents who also participated in the 1972-\\n1974-1976 panel study (ICPSR 7607) were included in 1976 vote\\nvalidation.  In vars VCF9151,9152,9154,9155, 1976 prepost Rs who did\\nnot also participate in the panel study are INAP.')])"
      ]
     },
     "execution_count": 290,
     "metadata": {},
     "output_type": "execute_result"
    }
   ],
   "source": [
    "res"
   ]
  },
  {
   "cell_type": "code",
   "execution_count": 259,
   "metadata": {},
   "outputs": [],
   "source": [
    "import copy\n",
    "\n",
    "\n",
    "SOURCE_VAR_RE = re.compile(\"^(\\d{4}): (.*)$\")\n",
    "\n",
    "\n",
    "def parse_source_vars(sections, var_def):\n",
    "    lines = sections.pop('SOURCE_VARS')\n",
    "    if lines is None:\n",
    "        return\n",
    "    \n",
    "    source_vars = OrderedDict()\n",
    "    for line in lines:\n",
    "        m = SOURCE_VAR_RE.match(line)\n",
    "        assert m, line\n",
    "        source_vars[m.group(1)] = [s.strip() for s in m.group(2).split(\",\")]\n",
    "        \n",
    "    var_def['source_vars'] = source_vars\n",
    "\n",
    "        \n",
    "parse_source_vars(copy.deepcopy(res['sections']), {})"
   ]
  },
  {
   "cell_type": "code",
   "execution_count": 249,
   "metadata": {},
   "outputs": [
    {
     "data": {
      "text/plain": [
       "OrderedDict([('NOTES',\n",
       "              ['See note VCF9149,VCF9152.',\n",
       "               'GENERAL NOTE:',\n",
       "               'Code 3 and code 5 include cases of limited access to vote records',\n",
       "               '(codes 2 and 5 in VCF9153).  Codes 3 and 5 also incorporate 1984 and',\n",
       "               '1990 cases of attempted validation by phone of Rs registered out of',\n",
       "               'area (998 in VCF9149).',\n",
       "               'In cases where registration is not required or where voting and',\n",
       "               'registration lists are for some reason kept entirely separate, this',\n",
       "               'code implies that an independent check for voting was also done and no',\n",
       "               'record of R voting was found.',\n",
       "               'In all Pre-Post years except 1964 (and some cases in 1976), this',\n",
       "               'variable includes in valid codes respondents who did not give a post-',\n",
       "               'election interview.',\n",
       "               '1964 and 1980 are the only years with cases categorized for same-day',\n",
       "               \"registration.  Registration was not 'checked' in such cases but voting\",\n",
       "               'records WERE checked (4 in VCF9152 and [1980] 1 in VCF9153).  The',\n",
       "               'results of the vote record checks for \"same-day registration\" Rs in',\n",
       "               '1964 and 1980 are represented here in codes 1 (voted) and 3 (did not',\n",
       "               'vote), with nocases of same-day registration coded 5.',\n",
       "               '1976 NOTE;',\n",
       "               'Only 1976 time-series respondents who also participated in the 1972-',\n",
       "               '1974-1976 panel study (ICPSR 7607) were included in 1976 vote',\n",
       "               'validation.  In vars VCF9151,9152,9154,9155, 1976 prepost Rs who did',\n",
       "               'not also participate in the panel study are INAP.']),\n",
       "             ('TYPE', ['Numeric  Dec 0-1']),\n",
       "             ('SOURCE_VARS',\n",
       "              ['1964: V640423,V640424,V64042',\n",
       "               '1976: V765002,V76501',\n",
       "               '1978: V781400,V781409,V78141',\n",
       "               '1980: V80120',\n",
       "               '1984: V841121,V84113',\n",
       "               '1986: V860773,V860778,V860789,V86080',\n",
       "               '1988: V88114',\n",
       "               '1990: V902006,V90204'])])"
      ]
     },
     "execution_count": 249,
     "metadata": {},
     "output_type": "execute_result"
    }
   ],
   "source": [
    "res['sections']"
   ]
  },
  {
   "cell_type": "code",
   "execution_count": null,
   "metadata": {},
   "outputs": [],
   "source": []
  }
 ],
 "metadata": {
  "kernelspec": {
   "display_name": "Python 3",
   "language": "python",
   "name": "python3"
  },
  "language_info": {
   "codemirror_mode": {
    "name": "ipython",
    "version": 3
   },
   "file_extension": ".py",
   "mimetype": "text/x-python",
   "name": "python",
   "nbconvert_exporter": "python",
   "pygments_lexer": "ipython3",
   "version": "3.5.3"
  }
 },
 "nbformat": 4,
 "nbformat_minor": 2
}
