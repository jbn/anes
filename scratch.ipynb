{
 "cells": [
  {
   "cell_type": "markdown",
   "metadata": {},
   "source": [
    "https://www.electionstudies.org/wp-content/uploads/2017/02/anes_timeseries_cdf_codebook_var.txt"
   ]
  },
  {
   "cell_type": "markdown",
   "metadata": {},
   "source": [
    "https://electionstudies.org/anes_timeseries_cdf/"
   ]
  },
  {
   "cell_type": "code",
   "execution_count": 1,
   "metadata": {},
   "outputs": [],
   "source": [
    "import modpipe\n",
    "import re\n",
    "from collections import OrderedDict\n",
    "import os"
   ]
  },
  {
   "cell_type": "code",
   "execution_count": 2,
   "metadata": {},
   "outputs": [],
   "source": [
    "VERSION_RE = re.compile(\"^RELEASE VERSION:\\s+(\\d+)\")\n",
    "\n",
    "\n",
    "LINE_SEP = \"=\" * 77 + \"\\n\"\n",
    "\n",
    "def defn_iterator(file_path):\n",
    "    version = None\n",
    "    lines = []\n",
    "    \n",
    "    with open(file_path, errors='ignore') as fp:\n",
    "        \n",
    "        for line in fp:\n",
    "            if version is None:\n",
    "                version = VERSION_RE.search(line).group(1)\n",
    "                yield {'version': version}\n",
    "            elif line == LINE_SEP:\n",
    "                break\n",
    "        \n",
    "        for line in fp:\n",
    "            if line == LINE_SEP:\n",
    "                yield lines\n",
    "                lines = []\n",
    "            else:\n",
    "                lines.append(line.rstrip())\n",
    "                \n",
    "    if lines[-1] == \"\" and lines[-2] == \"\" and lines[-3] == \"1\":\n",
    "        yield lines[:-3]"
   ]
  },
  {
   "cell_type": "code",
   "execution_count": 10,
   "metadata": {},
   "outputs": [],
   "source": [
    "DATA_PATH = os.path.join(\"data\", \"raw\", \"anes_timeseries_cdf_codebook_var.txt\")\n",
    "\n",
    "general_notes, var_defs = [], OrderedDict()\n",
    "\n",
    "with modpipe.ModPipe(\"codebook_pipeline\") as pipe:\n",
    "    for lines in defn_iterator(DATA_PATH):\n",
    "        if 'version' not in lines:\n",
    "            res = pipe(lines.copy())\n",
    "            if '_general_note_lines' in res:\n",
    "                general_notes.append(res)\n",
    "            else:\n",
    "                var_defs[res['name']] = res"
   ]
  },
  {
   "cell_type": "code",
   "execution_count": 11,
   "metadata": {},
   "outputs": [
    {
     "data": {
      "text/plain": [
       "OrderedDict([('name', 'VCF9074'),\n",
       "             ('module', 'ISSUES'),\n",
       "             ('desc', 'President on Cooperation with USSR Scale'),\n",
       "             ('var_type', 'Numeric  Dec 0-1'),\n",
       "             ('prompt',\n",
       "              ['1980:',\n",
       "               'Some people feel it is important for us to try very hard to get along',\n",
       "               'with Russia.  Others feel it is a big mistake to try too hard to get',\n",
       "               'along with Russia.',\n",
       "               '1984,1988:',\n",
       "               'Some people feel it is important for us to try to cooperate more with',\n",
       "               'Russia, while others believe we should be much tougher in our dealings',\n",
       "               'with Russia.',\n",
       "               'ALL YEARS:',\n",
       "               'Where would you place [president] on this scale?  (7-POINT SCALE SHOWN',\n",
       "               'TO R)']),\n",
       "             ('source_vars',\n",
       "              OrderedDict([('1980', ['V80107']),\n",
       "                           ('1984', ['V84040']),\n",
       "                           ('1988', ['V88037'])])),\n",
       "             ('weights', ['VCF0009x', 'VCF0009y', 'VCF0009z']),\n",
       "             ('notes', 'See note VCF9073.'),\n",
       "             ('codes',\n",
       "              OrderedDict([('UNIFORM',\n",
       "                            OrderedDict([('codes',\n",
       "                                          OrderedDict([('1',\n",
       "                                                        'Cooperate more/try to get along with Russia'),\n",
       "                                                       ('2', ''),\n",
       "                                                       ('3', ''),\n",
       "                                                       ('4', ''),\n",
       "                                                       ('5', ''),\n",
       "                                                       ('6', ''),\n",
       "                                                       ('7',\n",
       "                                                        'Get much tougher/big mistake to try to get along with Russia'),\n",
       "                                                       ('8', 'DK'),\n",
       "                                                       ('9', 'NA; no Post IW'),\n",
       "                                                       ('0',\n",
       "                                                        'R self-rating is DK or \"haven\\'t thought much about it\" on same 7pt scale'),\n",
       "                                                       ('INAP',\n",
       "                                                        'Inap. question not used')])),\n",
       "                                         ('valid',\n",
       "                                          {'1', '2', '3', '4', '5', '6', '7'}),\n",
       "                                         ('missing',\n",
       "                                          {'0', '8', '9', 'INAP'})]))]))])"
      ]
     },
     "execution_count": 11,
     "metadata": {},
     "output_type": "execute_result"
    }
   ],
   "source": [
    "var_defs['VCF9074']"
   ]
  }
 ],
 "metadata": {
  "kernelspec": {
   "display_name": "Python 3",
   "language": "python",
   "name": "python3"
  },
  "language_info": {
   "codemirror_mode": {
    "name": "ipython",
    "version": 3
   },
   "file_extension": ".py",
   "mimetype": "text/x-python",
   "name": "python",
   "nbconvert_exporter": "python",
   "pygments_lexer": "ipython3",
   "version": "3.5.3"
  }
 },
 "nbformat": 4,
 "nbformat_minor": 2
}
